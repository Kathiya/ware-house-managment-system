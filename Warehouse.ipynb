{
  "nbformat": 4,
  "nbformat_minor": 0,
  "metadata": {
    "colab": {
      "name": "Warehouse.ipynb",
      "provenance": [],
      "collapsed_sections": []
    },
    "kernelspec": {
      "name": "python3",
      "display_name": "Python 3"
    }
  },
  "cells": [
    {
      "cell_type": "code",
      "metadata": {
        "id": "9tTgQVUuY7P-",
        "colab_type": "code",
        "colab": {}
      },
      "source": [
        ""
      ],
      "execution_count": 0,
      "outputs": []
    },
    {
      "cell_type": "markdown",
      "metadata": {
        "id": "0mz6bwU9SIYv",
        "colab_type": "text"
      },
      "source": [
        "Prdidiction\n"
      ]
    },
    {
      "cell_type": "code",
      "metadata": {
        "id": "GviGezxqSGfn",
        "colab_type": "code",
        "colab": {}
      },
      "source": [
        "import numpy as np\n",
        "import pandas as pd\n",
        "\n",
        "\n",
        "df = pd.read_csv(\"train.csv\")\n",
        "train = pd.read_csv(f\"train.csv\", low_memory=False, \n",
        "                    parse_dates=['date'], index_col=['date'])\n",
        "test = pd.read_csv(f\"test.csv\", low_memory=False, \n",
        "                   parse_dates=['date'], index_col=['date'])"
      ],
      "execution_count": 0,
      "outputs": []
    },
    {
      "cell_type": "code",
      "metadata": {
        "id": "Hds16dcDSGix",
        "colab_type": "code",
        "colab": {}
      },
      "source": [
        "#resolved_score = training_df[training_df['essay_set'] == essay_set]['domain1_score']\n",
        "train = train[train[\"item\"]<15]\n",
        "train = train[ train[\"store\"] < 2]\n",
        "test = test[test[\"item\"]<15]\n",
        "test = test[test[\"store\"] < 2]"
      ],
      "execution_count": 0,
      "outputs": []
    },
    {
      "cell_type": "code",
      "metadata": {
        "id": "rmy_e93NSGlR",
        "colab_type": "code",
        "colab": {}
      },
      "source": [
        "def expand_df(df):\n",
        "    data = df.copy()\n",
        "    data['day'] = data.index.day\n",
        "    data['month'] = data.index.month\n",
        "    data['year'] = data.index.year\n",
        "    data['dayofweek'] = data.index.dayofweek\n",
        "    return data"
      ],
      "execution_count": 0,
      "outputs": []
    },
    {
      "cell_type": "code",
      "metadata": {
        "id": "N6yA8o2_SGnp",
        "colab_type": "code",
        "colab": {}
      },
      "source": [
        "data = expand_df(train)\n",
        "test_data = expand_df(test)"
      ],
      "execution_count": 0,
      "outputs": []
    },
    {
      "cell_type": "code",
      "metadata": {
        "id": "q6OwSu-PmuY3",
        "colab_type": "code",
        "outputId": "7b7636ff-7558-46ef-ce1c-11b8cd18e171",
        "colab": {
          "base_uri": "https://localhost:8080/",
          "height": 298
        }
      },
      "source": [
        "print(data)"
      ],
      "execution_count": 0,
      "outputs": [
        {
          "output_type": "stream",
          "text": [
            "            store  item  sales  day  month  year  dayofweek\n",
            "date                                                       \n",
            "2013-01-01      1     1     13    1      1  2013          1\n",
            "2013-01-02      1     1     11    2      1  2013          2\n",
            "2013-01-03      1     1     14    3      1  2013          3\n",
            "2013-01-04      1     1     13    4      1  2013          4\n",
            "2013-01-05      1     1     10    5      1  2013          5\n",
            "...           ...   ...    ...  ...    ...   ...        ...\n",
            "2017-12-27      1    14     42   27     12  2017          2\n",
            "2017-12-28      1    14     51   28     12  2017          3\n",
            "2017-12-29      1    14     42   29     12  2017          4\n",
            "2017-12-30      1    14     57   30     12  2017          5\n",
            "2017-12-31      1    14     52   31     12  2017          6\n",
            "\n",
            "[25564 rows x 7 columns]\n"
          ],
          "name": "stdout"
        }
      ]
    },
    {
      "cell_type": "code",
      "metadata": {
        "id": "NTfoZteQSGqx",
        "colab_type": "code",
        "colab": {}
      },
      "source": [
        "data_y = []\n",
        "for i in data.sales :\n",
        "   if i > 65:\n",
        "     data_y.append(3)\n",
        "   elif i > 48:\n",
        "     data_y.append(2)\n",
        "   elif i > 30:\n",
        "     data_y.append(1)\n",
        "   else:\n",
        "     data_y.append(0)"
      ],
      "execution_count": 0,
      "outputs": []
    },
    {
      "cell_type": "code",
      "metadata": {
        "id": "SLRleZK3SGtV",
        "colab_type": "code",
        "outputId": "3dedfefb-b822-4377-8508-d5d8f5fdb031",
        "colab": {
          "base_uri": "https://localhost:8080/",
          "height": 111
        }
      },
      "source": [
        "for j in range(4):\n",
        "  c=0\n",
        "  for i in data_y:\n",
        "    if i == j:\n",
        "      c+=1\n",
        "  print(j,c)\n",
        "len(data_y)"
      ],
      "execution_count": 0,
      "outputs": [
        {
          "output_type": "stream",
          "text": [
            "0 6674\n",
            "1 5964\n",
            "2 6572\n",
            "3 6354\n"
          ],
          "name": "stdout"
        },
        {
          "output_type": "execute_result",
          "data": {
            "text/plain": [
              "25564"
            ]
          },
          "metadata": {
            "tags": []
          },
          "execution_count": 44
        }
      ]
    },
    {
      "cell_type": "code",
      "metadata": {
        "id": "JVKxclQjSGws",
        "colab_type": "code",
        "colab": {}
      },
      "source": [
        "data_y = np.array(data_y)"
      ],
      "execution_count": 0,
      "outputs": []
    },
    {
      "cell_type": "code",
      "metadata": {
        "id": "Ma4UKJIzSGzT",
        "colab_type": "code",
        "colab": {}
      },
      "source": [
        "def num_data(data):\n",
        "  E = zip(data.item,data.day,data.month,data.dayofweek)\n",
        "\n",
        "  X = []\n",
        "\n",
        "  for i,j,k,l in E :\n",
        "    X.append([i,j,k,l])\n",
        "  X = np.array(X)\n",
        "  return X\n",
        "\n",
        "train_x = num_data(data)\n",
        "\n",
        "#train_y = np.array(data.sales)\n",
        "train_y = data_y\n",
        "test_x = num_data(test_data) \n",
        "\n",
        "#from sklearn import preprocessing\n",
        "#X_scaled = preprocessing.scale(train_x)\n",
        "#Y_scaled = preprocessing.scale(train_y) \n",
        "from sklearn.model_selection import train_test_split\n",
        "X_train, X_test, y_train, y_test = train_test_split(train_x,train_y, test_size=0.2)"
      ],
      "execution_count": 0,
      "outputs": []
    },
    {
      "cell_type": "code",
      "metadata": {
        "id": "efCldBdaSG2K",
        "colab_type": "code",
        "outputId": "505f4352-1547-43e2-b08c-a894f69e8071",
        "colab": {
          "base_uri": "https://localhost:8080/",
          "height": 54
        }
      },
      "source": [
        "print(len(X_train))\n",
        "print()"
      ],
      "execution_count": 0,
      "outputs": [
        {
          "output_type": "stream",
          "text": [
            "20451\n",
            "\n"
          ],
          "name": "stdout"
        }
      ]
    },
    {
      "cell_type": "code",
      "metadata": {
        "id": "bC617KNQSG4Q",
        "colab_type": "code",
        "outputId": "b7e7a9dc-f6e6-4f60-939b-fd0489d2d519",
        "colab": {
          "base_uri": "https://localhost:8080/",
          "height": 92
        }
      },
      "source": [
        "from sklearn import svm\n",
        "regr = svm.SVC()\n",
        "regr.fit(X_train, y_train)"
      ],
      "execution_count": 0,
      "outputs": [
        {
          "output_type": "execute_result",
          "data": {
            "text/plain": [
              "SVC(C=1.0, break_ties=False, cache_size=200, class_weight=None, coef0=0.0,\n",
              "    decision_function_shape='ovr', degree=3, gamma='scale', kernel='rbf',\n",
              "    max_iter=-1, probability=False, random_state=None, shrinking=True,\n",
              "    tol=0.001, verbose=False)"
            ]
          },
          "metadata": {
            "tags": []
          },
          "execution_count": 50
        }
      ]
    },
    {
      "cell_type": "code",
      "metadata": {
        "id": "U_jEL2ZjSG76",
        "colab_type": "code",
        "colab": {}
      },
      "source": [
        "predict=regr.predict(X_test)"
      ],
      "execution_count": 0,
      "outputs": []
    },
    {
      "cell_type": "code",
      "metadata": {
        "id": "lN_JLhNbSG99",
        "colab_type": "code",
        "outputId": "e03d1195-fe83-4e9d-8378-f431d5f69029",
        "colab": {
          "base_uri": "https://localhost:8080/",
          "height": 36
        }
      },
      "source": [
        "print(predict)"
      ],
      "execution_count": 0,
      "outputs": [
        {
          "output_type": "stream",
          "text": [
            "[0 1 1 ... 3 2 2]\n"
          ],
          "name": "stdout"
        }
      ]
    },
    {
      "cell_type": "code",
      "metadata": {
        "id": "eVyMIgz-SHBp",
        "colab_type": "code",
        "outputId": "d83955db-2c9f-425f-fa8e-20a5f502a56a",
        "colab": {
          "base_uri": "https://localhost:8080/",
          "height": 36
        }
      },
      "source": [
        "import sklearn\n",
        "sklearn.metrics.mean_squared_error(y_test,predict)"
      ],
      "execution_count": 0,
      "outputs": [
        {
          "output_type": "execute_result",
          "data": {
            "text/plain": [
              "0.8036377860355955"
            ]
          },
          "metadata": {
            "tags": []
          },
          "execution_count": 53
        }
      ]
    },
    {
      "cell_type": "code",
      "metadata": {
        "id": "-7zl4XfPSHDa",
        "colab_type": "code",
        "colab": {}
      },
      "source": [
        ""
      ],
      "execution_count": 0,
      "outputs": []
    },
    {
      "cell_type": "code",
      "metadata": {
        "id": "sgB4cSexSHHW",
        "colab_type": "code",
        "colab": {}
      },
      "source": [
        ""
      ],
      "execution_count": 0,
      "outputs": []
    },
    {
      "cell_type": "markdown",
      "metadata": {
        "id": "p2au_P5fV16U",
        "colab_type": "text"
      },
      "source": [
        "Shortest Path algorithm for Dynamic routing"
      ]
    },
    {
      "cell_type": "code",
      "metadata": {
        "id": "k3vq84fwSHJ6",
        "colab_type": "code",
        "colab": {}
      },
      "source": [
        "# here in this section we combine both of the work\n",
        "#     1) take box for delivery\n",
        "#     2) Put box at the blank place\n",
        "#     "
      ],
      "execution_count": 0,
      "outputs": []
    },
    {
      "cell_type": "code",
      "metadata": {
        "id": "HlK7QiJfnkHH",
        "colab_type": "code",
        "outputId": "c4b976cb-b45e-4b42-cca5-e2ad0c689e5b",
        "colab": {
          "base_uri": "https://localhost:8080/",
          "height": 36
        }
      },
      "source": [
        "# WE are useing famouse A-start algorithm for predicting the shortest path from current location\n",
        "\n",
        "import numpy as np\n",
        "\n",
        "class Node:\n",
        "    \"\"\"\n",
        "        A node class for A* Pathfinding\n",
        "        parent is parent of the current Node\n",
        "        position is current position of the Node in the maze\n",
        "        g is cost from start to current Node\n",
        "        h is heuristic based estimated cost for current Node to end Node\n",
        "        f is total cost of present node i.e. :  f = g + h\n",
        "    \"\"\"\n",
        "\n",
        "    def __init__(self, parent=None, position=None):\n",
        "        self.parent = parent\n",
        "        self.position = position\n",
        "\n",
        "        self.g = 0\n",
        "        self.h = 0\n",
        "        self.f = 0\n",
        "    def __eq__(self, other):\n",
        "        return self.position == other.position\n",
        "\n",
        "#This function return the path of the search\n",
        "def return_path(current_node,maze):\n",
        "    path = []\n",
        "    no_rows, no_columns = np.shape(maze)\n",
        "    # here we create the initialized result maze with -1 in every position\n",
        "    result = [[-1 for i in range(no_columns)] for j in range(no_rows)]\n",
        "    current = current_node\n",
        "    while current is not None:\n",
        "        path.append(current.position)\n",
        "        current = current.parent\n",
        "    # Return reversed path as we need to show from start to end path\n",
        "    path = path[::-1]\n",
        "    start_value = 0\n",
        "    # we update the path of start to end found by A-star serch with every step incremented by 1\n",
        "    for i in range(len(path)):\n",
        "        result[path[i][0]][path[i][1]] = start_value\n",
        "        start_value += 1\n",
        "    return result\n",
        "\n",
        "\n",
        "def search(maze, cost, start, end):\n",
        "    \"\"\"\n",
        "        Returns a list of tuples as a path from the given start to the given end in the given maze\n",
        "        :param maze:\n",
        "        :param cost\n",
        "        :param start:\n",
        "        :param end:\n",
        "        :return:\n",
        "    \"\"\"\n",
        "\n",
        "    # Create start and end node with initized values for g, h and f\n",
        "    start_node = Node(None, tuple(start))\n",
        "    start_node.g = start_node.h = start_node.f = 0\n",
        "    end_node = Node(None, tuple(end))\n",
        "    end_node.g = end_node.h = end_node.f = 0\n",
        "\n",
        "    # Initialize both yet_to_visit and visited list\n",
        "    # in this list we will put all node that are yet_to_visit for exploration. \n",
        "    # From here we will find the lowest cost node to expand next\n",
        "    yet_to_visit_list = []  \n",
        "    # in this list we will put all node those already explored so that we don't explore it again\n",
        "    visited_list = [] \n",
        "    \n",
        "    # Add the start node\n",
        "    yet_to_visit_list.append(start_node)\n",
        "    \n",
        "    # Adding a stop condition. This is to avoid any infinite loop and stop \n",
        "    # execution after some reasonable number of steps\n",
        "    outer_iterations = 0\n",
        "    max_iterations = (len(maze) // 2) ** 10\n",
        "\n",
        "    # what squares do we search . serarch movement is left-right-top-bottom \n",
        "    #(4 movements) from every positon\n",
        "\n",
        "    move  =  [[-1, 0 ], # go up\n",
        "              [ 0, -1], # go left\n",
        "              [ 1, 0 ], # go down\n",
        "              [ 0, 1 ]] # go right\n",
        "\n",
        "\n",
        "    \"\"\"\n",
        "        1) We first get the current node by comparing all f cost and selecting the lowest cost node for further expansion\n",
        "        2) Check max iteration reached or not . Set a message and stop execution\n",
        "        3) Remove the selected node from yet_to_visit list and add this node to visited list\n",
        "        4) Perofmr Goal test and return the path else perform below steps\n",
        "        5) For selected node find out all children (use move to find children)\n",
        "            a) get the current postion for the selected node (this becomes parent node for the children)\n",
        "            b) check if a valid position exist (boundary will make few nodes invalid)\n",
        "            c) if any node is a wall then ignore that\n",
        "            d) add to valid children node list for the selected parent\n",
        "            \n",
        "            For all the children node\n",
        "                a) if child in visited list then ignore it and try next node\n",
        "                b) calculate child node g, h and f values\n",
        "                c) if child in yet_to_visit list then ignore it\n",
        "                d) else move the child to yet_to_visit list\n",
        "    \"\"\"\n",
        "    #find maze has got how many rows and columns \n",
        "    no_rows, no_columns = np.shape(maze)\n",
        "    \n",
        "    # Loop until you find the end\n",
        "    \n",
        "    while len(yet_to_visit_list) > 0:\n",
        "        \n",
        "        # Every time any node is referred from yet_to_visit list, counter of limit operation incremented\n",
        "        outer_iterations += 1    \n",
        "\n",
        "        \n",
        "        # Get the current node\n",
        "        current_node = yet_to_visit_list[0]\n",
        "        current_index = 0\n",
        "        for index, item in enumerate(yet_to_visit_list):\n",
        "            if item.f < current_node.f:\n",
        "                current_node = item\n",
        "                current_index = index\n",
        "                \n",
        "        # if we hit this point return the path such as it may be no solution or \n",
        "        # computation cost is too high\n",
        "        if outer_iterations > max_iterations:\n",
        "            print (\"giving up on pathfinding too many iterations\")\n",
        "            return return_path(current_node,maze)\n",
        "\n",
        "        # Pop current node out off yet_to_visit list, add to visited list\n",
        "        yet_to_visit_list.pop(current_index)\n",
        "        visited_list.append(current_node)\n",
        "\n",
        "        # test if goal is reached or not, if yes then return the path\n",
        "        if current_node == end_node:\n",
        "            return return_path(current_node,maze)\n",
        "\n",
        "        # Generate children from all adjacent squares\n",
        "        children = []\n",
        "\n",
        "        for new_position in move: \n",
        "\n",
        "            # Get node position\n",
        "            node_position = (current_node.position[0] + new_position[0], current_node.position[1] + new_position[1])\n",
        "\n",
        "            # Make sure within range (check if within maze boundary)\n",
        "            if (node_position[0] > (no_rows - 1) or \n",
        "                node_position[0] < 0 or \n",
        "                node_position[1] > (no_columns -1) or \n",
        "                node_position[1] < 0):\n",
        "                continue\n",
        "\n",
        "            # Make sure walkable terrain\n",
        "            if maze[node_position[0]][node_position[1]] != 0:\n",
        "                continue\n",
        "\n",
        "            # Create new node\n",
        "            new_node = Node(current_node, node_position)\n",
        "\n",
        "            # Append\n",
        "            children.append(new_node)\n",
        "\n",
        "        # Loop through children\n",
        "        for child in children:\n",
        "            \n",
        "            # Child is on the visited list (search entire visited list)\n",
        "            if len([visited_child for visited_child in visited_list if visited_child == child]) > 0:\n",
        "                continue\n",
        "\n",
        "            # Create the f, g, and h values\n",
        "            child.g = current_node.g + cost\n",
        "            ## Heuristic costs calculated here, this is using eucledian distance\n",
        "            child.h = (((child.position[0] - end_node.position[0]) ** 2) + \n",
        "                       ((child.position[1] - end_node.position[1]) ** 2)) \n",
        "\n",
        "            child.f = child.g + child.h\n",
        "\n",
        "            # Child is already in the yet_to_visit list and g cost is already lower\n",
        "            if len([i for i in yet_to_visit_list if child == i and child.g > i.g]) > 0:\n",
        "                continue\n",
        "\n",
        "            # Add the child to the yet_to_visit list\n",
        "            yet_to_visit_list.append(child)\n",
        "\n",
        "\n",
        "if __name__ == '__main__':\n",
        "\n",
        "    maze = [[0, 0, 0, 0, 0, 0,0], # we are assuming that our Warehouse is 7x7 matrix, where '0' indicates the path  \n",
        "            [0, 1, 0, 1, 0, 1,0], # while 1 is the cupbord that robat can not cross\n",
        "            [0, 1, 0, 1, 0, 1,0], #==>\"Through this design we have flaxibility to adopt any warehouse design and we can implimate SP routing \"\n",
        "            [0, 0, 0, 0, 0, 0,0],\n",
        "            [0, 1, 0, 1, 0, 1,0],\n",
        "            [0, 1, 0, 1, 0, 1,0],\n",
        "            [0, 0, 0, 0, 0, 0,0]]\n",
        "    \n",
        "    start = [0, 0] # starting position\n",
        "    end = [4,5] # ending position\n",
        "    cost = 1 # cost per movement\n",
        "\n",
        "    path = search(maze,cost, start, end)\n",
        "    print(path)"
      ],
      "execution_count": 0,
      "outputs": [
        {
          "output_type": "stream",
          "text": [
            "None\n"
          ],
          "name": "stdout"
        }
      ]
    },
    {
      "cell_type": "code",
      "metadata": {
        "id": "wvy8DHEhqn-K",
        "colab_type": "code",
        "colab": {}
      },
      "source": [
        "'''\n",
        "following code with illustarte how robot will find the path\n",
        "Assume that blank_place containts all the blank places where robot has to visit\n",
        "'''"
      ],
      "execution_count": 0,
      "outputs": []
    },
    {
      "cell_type": "code",
      "metadata": {
        "id": "ar2rDU8oqoBE",
        "colab_type": "code",
        "outputId": "03152499-b252-4459-983f-277e15268039",
        "colab": {
          "base_uri": "https://localhost:8080/",
          "height": 1000
        }
      },
      "source": [
        "blank_places = [ [1,0], [3,0], [2,2], [4,2], [4,4], [3,4]]\n",
        "blank_places.append([0,0])\n",
        "start = [0,0]\n",
        "end = blank_places[0]\n",
        "\n",
        "for i in range(len(blank_places)) :\n",
        "  \n",
        "  path = search(maze,cost, start, end)\n",
        "  if i == len(blank_places)-1 :\n",
        "    break\n",
        "  print(\"start : \",start)\n",
        "  print(\"End : \",end)\n",
        "  start = blank_places[i]\n",
        "  end = blank_places[i+1]\n",
        "  print('\\n'.join([''.join([\"{:\" \">3d}\".format(item) for item in row]) \n",
        "      for row in path]))\n",
        "  #print(start)\n",
        "  #print(end) \n",
        "\n",
        "'''\n",
        "OUTPUT explaination :-\n",
        "  here we can see that how robot will travers from start from end,\n",
        "  all the integer from 0,1,2,3,... shows that how robot will travers and its distance and direction of traversal\n",
        "'''"
      ],
      "execution_count": 0,
      "outputs": [
        {
          "output_type": "stream",
          "text": [
            "start :  [0, 0]\n",
            "End :  [1, 0]\n",
            "  0 -1 -1 -1 -1 -1 -1\n",
            "  1 -1 -1 -1 -1 -1 -1\n",
            " -1 -1 -1 -1 -1 -1 -1\n",
            " -1 -1 -1 -1 -1 -1 -1\n",
            " -1 -1 -1 -1 -1 -1 -1\n",
            " -1 -1 -1 -1 -1 -1 -1\n",
            " -1 -1 -1 -1 -1 -1 -1\n",
            "start :  [1, 0]\n",
            "End :  [3, 0]\n",
            " -1 -1 -1 -1 -1 -1 -1\n",
            "  0 -1 -1 -1 -1 -1 -1\n",
            "  1 -1 -1 -1 -1 -1 -1\n",
            "  2 -1 -1 -1 -1 -1 -1\n",
            " -1 -1 -1 -1 -1 -1 -1\n",
            " -1 -1 -1 -1 -1 -1 -1\n",
            " -1 -1 -1 -1 -1 -1 -1\n",
            "start :  [3, 0]\n",
            "End :  [2, 2]\n",
            " -1 -1 -1 -1 -1 -1 -1\n",
            " -1 -1 -1 -1 -1 -1 -1\n",
            " -1 -1  3 -1 -1 -1 -1\n",
            "  0  1  2 -1 -1 -1 -1\n",
            " -1 -1 -1 -1 -1 -1 -1\n",
            " -1 -1 -1 -1 -1 -1 -1\n",
            " -1 -1 -1 -1 -1 -1 -1\n",
            "start :  [2, 2]\n",
            "End :  [4, 2]\n",
            " -1 -1 -1 -1 -1 -1 -1\n",
            " -1 -1 -1 -1 -1 -1 -1\n",
            " -1 -1  0 -1 -1 -1 -1\n",
            " -1 -1  1 -1 -1 -1 -1\n",
            " -1 -1  2 -1 -1 -1 -1\n",
            " -1 -1 -1 -1 -1 -1 -1\n",
            " -1 -1 -1 -1 -1 -1 -1\n",
            "start :  [4, 2]\n",
            "End :  [4, 4]\n",
            " -1 -1 -1 -1 -1 -1 -1\n",
            " -1 -1 -1 -1 -1 -1 -1\n",
            " -1 -1 -1 -1 -1 -1 -1\n",
            " -1 -1  1  2  3 -1 -1\n",
            " -1 -1  0 -1  4 -1 -1\n",
            " -1 -1 -1 -1 -1 -1 -1\n",
            " -1 -1 -1 -1 -1 -1 -1\n",
            "start :  [4, 4]\n",
            "End :  [3, 4]\n",
            " -1 -1 -1 -1 -1 -1 -1\n",
            " -1 -1 -1 -1 -1 -1 -1\n",
            " -1 -1 -1 -1 -1 -1 -1\n",
            " -1 -1 -1 -1  1 -1 -1\n",
            " -1 -1 -1 -1  0 -1 -1\n",
            " -1 -1 -1 -1 -1 -1 -1\n",
            " -1 -1 -1 -1 -1 -1 -1\n"
          ],
          "name": "stdout"
        },
        {
          "output_type": "execute_result",
          "data": {
            "text/plain": [
              "'\\nOUTPUT explaination :-\\n  here we can see that how robot will travers from start from end,\\n  all the integer from 0,1,2,3,... shows that how robot will travers and its distance and direction of traversal\\n'"
            ]
          },
          "metadata": {
            "tags": []
          },
          "execution_count": 55
        }
      ]
    },
    {
      "cell_type": "code",
      "metadata": {
        "id": "4h_15i8Dn6YD",
        "colab_type": "code",
        "colab": {}
      },
      "source": [
        " \n",
        "\n",
        "print('\\n'.join([''.join([\"{:\" \">3d}\".format(item) for item in row]) \n",
        "      for row in path]))\n",
        "print(\" \")\n",
        "print('\\n'.join([''.join([\"{:\" \">3d}\".format(item) for item in row]) \n",
        "      for row in path]))\n",
        "\n"
      ],
      "execution_count": 0,
      "outputs": []
    },
    {
      "cell_type": "code",
      "metadata": {
        "id": "dSDHFaNTn6ae",
        "colab_type": "code",
        "colab": {}
      },
      "source": [
        ""
      ],
      "execution_count": 0,
      "outputs": []
    },
    {
      "cell_type": "code",
      "metadata": {
        "id": "P2BfIgq6n6dw",
        "colab_type": "code",
        "colab": {}
      },
      "source": [
        "#input list contains the loaction of box that is arrive at warehous;\n",
        "# this shows where to put that box\n",
        "# and have to place at their location\n",
        "Input = [[4,4],[1,4],[1,2],[1,0],[3,2],[5,4]]\n",
        "\n",
        "#blank_places describes number of empty place in the warehouse \n",
        "blank_places = [[4,4],[3,4],[1,0],[5,4],[6,6],[2,4]]\n",
        "\n",
        "\n",
        "\n",
        "#request is the list of all the location of boxes that are requested to the robat\n",
        "request = [[1,2],[3,4],[5,2],[6,4],[6,2],[1,4]]\n"
      ],
      "execution_count": 0,
      "outputs": []
    },
    {
      "cell_type": "code",
      "metadata": {
        "id": "IITdIi_WUFpc",
        "colab_type": "code",
        "colab": {}
      },
      "source": [
        "# now we will check if we has a input according to the blank_places we will load them into the our Robot\n",
        "def common_member(a, b): \n",
        "    nt1 = map(tuple, a)\n",
        "    nt2 = map(tuple, b)\n",
        "\n",
        "    st1 = set(nt1)\n",
        "    st2 = set(nt2)\n",
        "    c =list(st1.intersection(st2))\n",
        "    d =[]\n",
        "    for i in c :\n",
        "      d.append(list(i))\n",
        "    return d\n",
        "\n",
        "\n",
        "\n",
        "#now we calculate the total boxes that puted in the place at ware houcse\n",
        "\n",
        "total_put = common_member(Input,blank_places) # this statement will find the all the boxes that are arrived at warehouse and has blank places in ware house\n",
        "total_put = common_member(Input,request) + total_put # this statment include position of boxes that are requested by customer and also Input in warehouse"
      ],
      "execution_count": 0,
      "outputs": []
    },
    {
      "cell_type": "code",
      "metadata": {
        "id": "3BHvnf7j7q2M",
        "colab_type": "code",
        "colab": {}
      },
      "source": [
        "#now we append flag got the location so that robate can destinguish between boxes wether they are location of put the box or taking the box\n",
        "for i in total_put: \n",
        "    i.append(1)\n",
        "for j in request :\n",
        "    j.append(0)\n",
        "\n",
        "\n"
      ],
      "execution_count": 0,
      "outputs": []
    },
    {
      "cell_type": "code",
      "metadata": {
        "id": "fE3NpQj29Lh-",
        "colab_type": "code",
        "colab": {}
      },
      "source": [
        "#now Final Input to the robot will be\n",
        "final = request + total_put\n",
        "final.sort()\n",
        "final.append([0,0,0])"
      ],
      "execution_count": 0,
      "outputs": []
    },
    {
      "cell_type": "code",
      "metadata": {
        "id": "kJeoxlqhADyP",
        "colab_type": "code",
        "outputId": "d83189a1-f57f-43c1-cb4a-9bc563aac9a8",
        "colab": {
          "base_uri": "https://localhost:8080/",
          "height": 74
        }
      },
      "source": [
        "print(final)\n",
        "print((len(final)))"
      ],
      "execution_count": 0,
      "outputs": [
        {
          "output_type": "stream",
          "text": [
            "[[1, 0, 1], [1, 2, 0], [1, 2, 1], [1, 4, 0], [1, 4, 1], [3, 4, 0], [4, 4, 1], [5, 2, 0], [5, 4, 1], [6, 2, 0], [6, 4, 0], [0, 0, 0]]\n",
            "12\n"
          ],
          "name": "stdout"
        }
      ]
    },
    {
      "cell_type": "code",
      "metadata": {
        "id": "FToG-xXVEq0r",
        "colab_type": "code",
        "outputId": "80591dd9-d8d1-4c92-a3db-a0862a604102",
        "colab": {
          "base_uri": "https://localhost:8080/",
          "height": 1000
        }
      },
      "source": [
        "start = [0,0]\n",
        "end = [final[0][0],final[0][1]]\n",
        "\n",
        "for i in range(len(final)) :\n",
        "\n",
        "  print(start)\n",
        "  print(end)\n",
        "  path = search(maze,cost, start, end)\n",
        "  print('\\n'.join([''.join([\"{:\" \">3d}\".format(item) for item in row]) \n",
        "      for row in path]))\n",
        "  if i == len(final)-1:\n",
        "    break\n",
        "  start = [final[i][0],final[i][1]]\n",
        "  end = [final[i+1][0],final[i+1][1]]\n",
        "  if final[i][2] :\n",
        "    print(\"put the box\")\n",
        "  else:\n",
        "    print(\"take the box\")\n",
        "  print(\"------------------------------------------------------------\")\n",
        "  \n",
        "  \n",
        "  "
      ],
      "execution_count": 0,
      "outputs": [
        {
          "output_type": "stream",
          "text": [
            "[0, 0]\n",
            "[1, 0]\n",
            "  0 -1 -1 -1 -1 -1 -1\n",
            "  1 -1 -1 -1 -1 -1 -1\n",
            " -1 -1 -1 -1 -1 -1 -1\n",
            " -1 -1 -1 -1 -1 -1 -1\n",
            " -1 -1 -1 -1 -1 -1 -1\n",
            " -1 -1 -1 -1 -1 -1 -1\n",
            " -1 -1 -1 -1 -1 -1 -1\n",
            "put the box\n",
            "------------------------------------------------------------\n",
            "[1, 0]\n",
            "[1, 2]\n",
            "  1  2  3 -1 -1 -1 -1\n",
            "  0 -1  4 -1 -1 -1 -1\n",
            " -1 -1 -1 -1 -1 -1 -1\n",
            " -1 -1 -1 -1 -1 -1 -1\n",
            " -1 -1 -1 -1 -1 -1 -1\n",
            " -1 -1 -1 -1 -1 -1 -1\n",
            " -1 -1 -1 -1 -1 -1 -1\n",
            "take the box\n",
            "------------------------------------------------------------\n",
            "[1, 2]\n",
            "[1, 2]\n",
            " -1 -1 -1 -1 -1 -1 -1\n",
            " -1 -1  0 -1 -1 -1 -1\n",
            " -1 -1 -1 -1 -1 -1 -1\n",
            " -1 -1 -1 -1 -1 -1 -1\n",
            " -1 -1 -1 -1 -1 -1 -1\n",
            " -1 -1 -1 -1 -1 -1 -1\n",
            " -1 -1 -1 -1 -1 -1 -1\n",
            "put the box\n",
            "------------------------------------------------------------\n",
            "[1, 2]\n",
            "[1, 4]\n",
            " -1 -1  1  2  3 -1 -1\n",
            " -1 -1  0 -1  4 -1 -1\n",
            " -1 -1 -1 -1 -1 -1 -1\n",
            " -1 -1 -1 -1 -1 -1 -1\n",
            " -1 -1 -1 -1 -1 -1 -1\n",
            " -1 -1 -1 -1 -1 -1 -1\n",
            " -1 -1 -1 -1 -1 -1 -1\n",
            "take the box\n",
            "------------------------------------------------------------\n",
            "[1, 4]\n",
            "[1, 4]\n",
            " -1 -1 -1 -1 -1 -1 -1\n",
            " -1 -1 -1 -1  0 -1 -1\n",
            " -1 -1 -1 -1 -1 -1 -1\n",
            " -1 -1 -1 -1 -1 -1 -1\n",
            " -1 -1 -1 -1 -1 -1 -1\n",
            " -1 -1 -1 -1 -1 -1 -1\n",
            " -1 -1 -1 -1 -1 -1 -1\n",
            "put the box\n",
            "------------------------------------------------------------\n",
            "[1, 4]\n",
            "[3, 4]\n",
            " -1 -1 -1 -1 -1 -1 -1\n",
            " -1 -1 -1 -1  0 -1 -1\n",
            " -1 -1 -1 -1  1 -1 -1\n",
            " -1 -1 -1 -1  2 -1 -1\n",
            " -1 -1 -1 -1 -1 -1 -1\n",
            " -1 -1 -1 -1 -1 -1 -1\n",
            " -1 -1 -1 -1 -1 -1 -1\n",
            "take the box\n",
            "------------------------------------------------------------\n",
            "[3, 4]\n",
            "[4, 4]\n",
            " -1 -1 -1 -1 -1 -1 -1\n",
            " -1 -1 -1 -1 -1 -1 -1\n",
            " -1 -1 -1 -1 -1 -1 -1\n",
            " -1 -1 -1 -1  0 -1 -1\n",
            " -1 -1 -1 -1  1 -1 -1\n",
            " -1 -1 -1 -1 -1 -1 -1\n",
            " -1 -1 -1 -1 -1 -1 -1\n",
            "put the box\n",
            "------------------------------------------------------------\n",
            "[4, 4]\n",
            "[5, 2]\n",
            " -1 -1 -1 -1 -1 -1 -1\n",
            " -1 -1 -1 -1 -1 -1 -1\n",
            " -1 -1 -1 -1 -1 -1 -1\n",
            " -1 -1 -1 -1 -1 -1 -1\n",
            " -1 -1 -1 -1  0 -1 -1\n",
            " -1 -1  5 -1  1 -1 -1\n",
            " -1 -1  4  3  2 -1 -1\n",
            "take the box\n",
            "------------------------------------------------------------\n",
            "[5, 2]\n",
            "[5, 4]\n",
            " -1 -1 -1 -1 -1 -1 -1\n",
            " -1 -1 -1 -1 -1 -1 -1\n",
            " -1 -1 -1 -1 -1 -1 -1\n",
            " -1 -1 -1 -1 -1 -1 -1\n",
            " -1 -1 -1 -1 -1 -1 -1\n",
            " -1 -1  0 -1  4 -1 -1\n",
            " -1 -1  1  2  3 -1 -1\n",
            "put the box\n",
            "------------------------------------------------------------\n",
            "[5, 4]\n",
            "[6, 2]\n",
            " -1 -1 -1 -1 -1 -1 -1\n",
            " -1 -1 -1 -1 -1 -1 -1\n",
            " -1 -1 -1 -1 -1 -1 -1\n",
            " -1 -1 -1 -1 -1 -1 -1\n",
            " -1 -1 -1 -1 -1 -1 -1\n",
            " -1 -1 -1 -1  0 -1 -1\n",
            " -1 -1  3  2  1 -1 -1\n",
            "take the box\n",
            "------------------------------------------------------------\n",
            "[6, 2]\n",
            "[6, 4]\n",
            " -1 -1 -1 -1 -1 -1 -1\n",
            " -1 -1 -1 -1 -1 -1 -1\n",
            " -1 -1 -1 -1 -1 -1 -1\n",
            " -1 -1 -1 -1 -1 -1 -1\n",
            " -1 -1 -1 -1 -1 -1 -1\n",
            " -1 -1 -1 -1 -1 -1 -1\n",
            " -1 -1  0  1  2 -1 -1\n",
            "take the box\n",
            "------------------------------------------------------------\n",
            "[6, 4]\n",
            "[0, 0]\n",
            " 10  9  8 -1 -1 -1 -1\n",
            " -1 -1  7 -1 -1 -1 -1\n",
            " -1 -1  6 -1 -1 -1 -1\n",
            " -1 -1  5  4  3 -1 -1\n",
            " -1 -1 -1 -1  2 -1 -1\n",
            " -1 -1 -1 -1  1 -1 -1\n",
            " -1 -1 -1 -1  0 -1 -1\n"
          ],
          "name": "stdout"
        }
      ]
    },
    {
      "cell_type": "code",
      "metadata": {
        "id": "OCduD2rSHwKC",
        "colab_type": "code",
        "colab": {}
      },
      "source": [
        ""
      ],
      "execution_count": 0,
      "outputs": []
    },
    {
      "cell_type": "code",
      "metadata": {
        "id": "eD39bDCaY_gk",
        "colab_type": "code",
        "colab": {}
      },
      "source": [
        ""
      ],
      "execution_count": 0,
      "outputs": []
    },
    {
      "cell_type": "code",
      "metadata": {
        "id": "xWkacaKwY_jQ",
        "colab_type": "code",
        "colab": {}
      },
      "source": [
        ""
      ],
      "execution_count": 0,
      "outputs": []
    },
    {
      "cell_type": "markdown",
      "metadata": {
        "id": "rjtWF7gJZBWg",
        "colab_type": "text"
      },
      "source": [
        "Decision Tree\n"
      ]
    },
    {
      "cell_type": "code",
      "metadata": {
        "id": "Txy9lPNlY_mH",
        "colab_type": "code",
        "colab": {}
      },
      "source": [
        "from sklearn.datasets import load_iris\n",
        "from sklearn.tree import DecisionTreeClassifier\n",
        "from sklearn.model_selection import train_test_split\n",
        "from sklearn.metrics import confusion_matrix\n",
        "from sklearn.tree import export_graphviz\n",
        "from sklearn.externals.six import StringIO \n",
        "from IPython.display import Image \n",
        "from pydot import graph_from_dot_data\n",
        "import pandas as pd\n",
        "import numpy as np"
      ],
      "execution_count": 0,
      "outputs": []
    },
    {
      "cell_type": "code",
      "metadata": {
        "id": "bSDlvbnjY_o9",
        "colab_type": "code",
        "colab": {}
      },
      "source": [
        "import pandas as pd\n",
        "training_df1 = pd.read_csv(\"data_tree(1).tsv\", delimiter='\\t', encoding = \"ISO-8859-1\")\n",
        "dist1 = training_df1['dist']\n",
        "time1 = training_df1['time']\n",
        "mod1 = training_df1['mode']\n",
        "X = []\n",
        "\n",
        "Y = mod1\n",
        "for i in range(len(dist1)):\n",
        "  X.append([dist1[i],time1[i]])"
      ],
      "execution_count": 0,
      "outputs": []
    },
    {
      "cell_type": "code",
      "metadata": {
        "id": "lbkh8jUBtp0i",
        "colab_type": "code",
        "colab": {}
      },
      "source": [
        "print(training_df1)"
      ],
      "execution_count": 0,
      "outputs": []
    },
    {
      "cell_type": "code",
      "metadata": {
        "id": "qV1nIQlzZR3o",
        "colab_type": "code",
        "colab": {}
      },
      "source": [
        "y = pd.get_dummies(Y)\n",
        "X = np.array(X)\n",
        "Y = np.array(y)"
      ],
      "execution_count": 0,
      "outputs": []
    },
    {
      "cell_type": "code",
      "metadata": {
        "id": "kOF5OPsR_dLa",
        "colab_type": "code",
        "outputId": "22080988-61a4-461d-fcdd-7af19eee0035",
        "colab": {
          "base_uri": "https://localhost:8080/",
          "height": 148
        }
      },
      "source": [
        "Y"
      ],
      "execution_count": 0,
      "outputs": [
        {
          "output_type": "execute_result",
          "data": {
            "text/plain": [
              "array([[1, 0, 0],\n",
              "       [1, 0, 0],\n",
              "       [1, 0, 0],\n",
              "       ...,\n",
              "       [0, 1, 0],\n",
              "       [0, 1, 0],\n",
              "       [0, 1, 0]], dtype=uint8)"
            ]
          },
          "metadata": {
            "tags": []
          },
          "execution_count": 74
        }
      ]
    },
    {
      "cell_type": "code",
      "metadata": {
        "id": "Zwac4T-4ZTqE",
        "colab_type": "code",
        "colab": {}
      },
      "source": [
        "X_train, X_test, y_train, y_test = train_test_split(X, y, random_state=1)"
      ],
      "execution_count": 0,
      "outputs": []
    },
    {
      "cell_type": "code",
      "metadata": {
        "id": "bI3sU9rV_sYr",
        "colab_type": "code",
        "colab": {}
      },
      "source": [
        "X_train"
      ],
      "execution_count": 0,
      "outputs": []
    },
    {
      "cell_type": "code",
      "metadata": {
        "id": "1XHpx1JrZVnE",
        "colab_type": "code",
        "outputId": "a56b82e8-da95-42eb-9e00-22e442d4350c",
        "colab": {
          "base_uri": "https://localhost:8080/",
          "height": 129
        }
      },
      "source": [
        "dt = DecisionTreeClassifier()\n",
        "dt.fit(X_train, y_train)"
      ],
      "execution_count": 0,
      "outputs": [
        {
          "output_type": "execute_result",
          "data": {
            "text/plain": [
              "DecisionTreeClassifier(ccp_alpha=0.0, class_weight=None, criterion='gini',\n",
              "                       max_depth=None, max_features=None, max_leaf_nodes=None,\n",
              "                       min_impurity_decrease=0.0, min_impurity_split=None,\n",
              "                       min_samples_leaf=1, min_samples_split=2,\n",
              "                       min_weight_fraction_leaf=0.0, presort='deprecated',\n",
              "                       random_state=None, splitter='best')"
            ]
          },
          "metadata": {
            "tags": []
          },
          "execution_count": 73
        }
      ]
    },
    {
      "cell_type": "code",
      "metadata": {
        "id": "qgRUkCaWZVqT",
        "colab_type": "code",
        "colab": {}
      },
      "source": [
        "X_test"
      ],
      "execution_count": 0,
      "outputs": []
    },
    {
      "cell_type": "code",
      "metadata": {
        "id": "NvVhekVmaXsq",
        "colab_type": "code",
        "colab": {}
      },
      "source": [
        "# now every box has delivery distance in KM and Time to delivery to it\n",
        "# here\n",
        "#   [1,0,0] = Truck\n",
        "#   [0,1,0] = Airways\n",
        "#   [0,0,1] = Train\n",
        "\n"
      ],
      "execution_count": 0,
      "outputs": []
    },
    {
      "cell_type": "code",
      "metadata": {
        "id": "xYCK5AVSaXvj",
        "colab_type": "code",
        "colab": {}
      },
      "source": [
        "#---------------|--Time in hour\n",
        "Address =[[1200,3]]\n",
        "#----------^---Distance in KM"
      ],
      "execution_count": 0,
      "outputs": []
    },
    {
      "cell_type": "code",
      "metadata": {
        "id": "VcFGPiGEZVtD",
        "colab_type": "code",
        "outputId": "b71453cd-2907-4102-c3fc-370a49104130",
        "colab": {
          "base_uri": "https://localhost:8080/",
          "height": 36
        }
      },
      "source": [
        "y_pred = dt.predict(Address)\n",
        "y_pred"
      ],
      "execution_count": 0,
      "outputs": [
        {
          "output_type": "execute_result",
          "data": {
            "text/plain": [
              "array([[0, 1, 0]], dtype=uint8)"
            ]
          },
          "metadata": {
            "tags": []
          },
          "execution_count": 76
        }
      ]
    },
    {
      "cell_type": "code",
      "metadata": {
        "id": "MAsUgLEvZtID",
        "colab_type": "code",
        "colab": {}
      },
      "source": [
        "'''\n",
        "species = np.array(y_test).argmax(axis=1)\n",
        "predictions = np.array(y_pred).argmax(axis=1)\n",
        "confusion_matrix(species, predictions)\n",
        "'''"
      ],
      "execution_count": 0,
      "outputs": []
    },
    {
      "cell_type": "code",
      "metadata": {
        "id": "iOuSF4lVZwZT",
        "colab_type": "code",
        "colab": {}
      },
      "source": [
        ""
      ],
      "execution_count": 0,
      "outputs": []
    },
    {
      "cell_type": "code",
      "metadata": {
        "id": "ugajXbJfl4-J",
        "colab_type": "code",
        "colab": {}
      },
      "source": [
        ""
      ],
      "execution_count": 0,
      "outputs": []
    },
    {
      "cell_type": "markdown",
      "metadata": {
        "id": "2pTpHxPYd3MB",
        "colab_type": "text"
      },
      "source": [
        "Prediction\n"
      ]
    },
    {
      "cell_type": "code",
      "metadata": {
        "id": "nIyf1oVxl5ES",
        "colab_type": "code",
        "colab": {}
      },
      "source": [
        "df = pd.read_csv(\"train.csv\")\n",
        "train = pd.read_csv(f\"train.csv\", low_memory=False, \n",
        "                    parse_dates=['date'], index_col=['date'])\n",
        "test = pd.read_csv(f\"test.csv\", low_memory=False, \n",
        "                   parse_dates=['date'], index_col=['date'])"
      ],
      "execution_count": 0,
      "outputs": []
    },
    {
      "cell_type": "code",
      "metadata": {
        "id": "e4Mh9KHUfsBZ",
        "colab_type": "code",
        "colab": {}
      },
      "source": [
        ""
      ],
      "execution_count": 0,
      "outputs": []
    },
    {
      "cell_type": "code",
      "metadata": {
        "id": "iOp9BArkfsE6",
        "colab_type": "code",
        "colab": {}
      },
      "source": [
        "#df = pd.read_csv(\"train.csv\")\n",
        "data = train.copy()\n",
        "display(data)\n",
        "data['day'] = data.index.day\n",
        "data['month'] = data.index.month\n",
        "data['year'] = data.index.year\n",
        "data['dayofweek'] = data.index.dayofweek"
      ],
      "execution_count": 0,
      "outputs": []
    },
    {
      "cell_type": "code",
      "metadata": {
        "id": "AA9-mf90mLms",
        "colab_type": "code",
        "colab": {}
      },
      "source": [
        "test_data = test.copy()\n",
        "display(test_data)\n",
        "test_data['day'] = test_data.index.day\n",
        "test_data['month'] = test_data.index.month\n",
        "test_data['year'] = test_data.index.year\n",
        "test_data['dayofweek'] = test_data.index.dayofweek"
      ],
      "execution_count": 0,
      "outputs": []
    },
    {
      "cell_type": "code",
      "metadata": {
        "id": "FqUqE6Phl5GT",
        "colab_type": "code",
        "colab": {}
      },
      "source": [
        "display(data)"
      ],
      "execution_count": 0,
      "outputs": []
    },
    {
      "cell_type": "code",
      "metadata": {
        "id": "_d5uysdjl5LQ",
        "colab_type": "code",
        "colab": {}
      },
      "source": [
        "def num_data(data)\n",
        "  E = zip(data.item,data.day,data.month,data.dayofweek)\n",
        "\n",
        "  X = []\n",
        "\n",
        "  for i,j,k,l in E :\n",
        "    X.append([i,j,k,l])\n",
        "  X = np.array(X)\n",
        "  Y = np.array(data.sales)\n",
        "  return X,Y\n",
        "\n"
      ],
      "execution_count": 0,
      "outputs": []
    },
    {
      "cell_type": "code",
      "metadata": {
        "id": "7_l8HGEXl5NU",
        "colab_type": "code",
        "colab": {}
      },
      "source": [
        " test_x = num_data(test_data)"
      ],
      "execution_count": 0,
      "outputs": []
    },
    {
      "cell_type": "code",
      "metadata": {
        "id": "gVlUCv8Ul6MH",
        "colab_type": "code",
        "colab": {}
      },
      "source": [
        ""
      ],
      "execution_count": 0,
      "outputs": []
    },
    {
      "cell_type": "code",
      "metadata": {
        "id": "KwA62r7Pjlaa",
        "colab_type": "code",
        "colab": {}
      },
      "source": [
        "from sklearn import svm\n",
        "regr = svm.SVR()\n",
        "regr.fit(X, Y)"
      ],
      "execution_count": 0,
      "outputs": []
    },
    {
      "cell_type": "code",
      "metadata": {
        "id": "Dc31TynujleQ",
        "colab_type": "code",
        "colab": {}
      },
      "source": [
        "regr.predict()"
      ],
      "execution_count": 0,
      "outputs": []
    },
    {
      "cell_type": "code",
      "metadata": {
        "id": "knnyz1HKjll1",
        "colab_type": "code",
        "colab": {}
      },
      "source": [
        ""
      ],
      "execution_count": 0,
      "outputs": []
    },
    {
      "cell_type": "code",
      "metadata": {
        "id": "4cFQ3UgQjlj8",
        "colab_type": "code",
        "colab": {}
      },
      "source": [
        ""
      ],
      "execution_count": 0,
      "outputs": []
    },
    {
      "cell_type": "code",
      "metadata": {
        "id": "GSolZbpAjlhp",
        "colab_type": "code",
        "colab": {}
      },
      "source": [
        ""
      ],
      "execution_count": 0,
      "outputs": []
    },
    {
      "cell_type": "code",
      "metadata": {
        "id": "m1QVtfgCZfQ5",
        "colab_type": "code",
        "colab": {}
      },
      "source": [
        ""
      ],
      "execution_count": 0,
      "outputs": []
    },
    {
      "cell_type": "code",
      "metadata": {
        "id": "X-9LHftgZfTu",
        "colab_type": "code",
        "colab": {}
      },
      "source": [
        ""
      ],
      "execution_count": 0,
      "outputs": []
    },
    {
      "cell_type": "code",
      "metadata": {
        "id": "NwhUzhQOZfOV",
        "colab_type": "code",
        "outputId": "430780d3-89e6-4efa-9fe9-c84c6ece3633",
        "colab": {
          "base_uri": "https://localhost:8080/",
          "height": 36
        }
      },
      "source": [
        "29,46,69"
      ],
      "execution_count": 0,
      "outputs": [
        {
          "output_type": "execute_result",
          "data": {
            "text/plain": [
              "913000"
            ]
          },
          "metadata": {
            "tags": []
          },
          "execution_count": 169
        }
      ]
    },
    {
      "cell_type": "code",
      "metadata": {
        "id": "-hA8YVfz0MuR",
        "colab_type": "code",
        "colab": {}
      },
      "source": [
        "import matplotlib.pyplot as plt \n",
        "   \n",
        "# plotting the points  \n",
        "plt.plot(x, y) \n",
        "plt.show()"
      ],
      "execution_count": 0,
      "outputs": []
    },
    {
      "cell_type": "code",
      "metadata": {
        "id": "lD5VTSS4XwPs",
        "colab_type": "code",
        "colab": {}
      },
      "source": [
        ""
      ],
      "execution_count": 0,
      "outputs": []
    }
  ]
}